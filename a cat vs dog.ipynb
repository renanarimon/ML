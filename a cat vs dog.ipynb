{
 "cells": [
  {
   "cell_type": "markdown",
   "metadata": {},
   "source": [
    "<div class=\"alert alert-block alert-info\">\n",
    "    \n",
    "# cats vs dogs\n",
    "## Renana Rimon\n",
    "    \n",
    "<div>"
   ]
  },
  {
   "cell_type": "code",
   "execution_count": 3,
   "metadata": {},
   "outputs": [],
   "source": [
    "import os, cv2\n",
    "import numpy as np\n",
    "import pandas as pd\n",
    "from matplotlib import pyplot\n",
    "import matplotlib.pyplot as plt\n",
    "from matplotlib.image import imread\n",
    "from sklearn.model_selection import cross_val_score\n",
    "from sklearn.model_selection import StratifiedKFold\n",
    "\n",
    "from sklearn.neighbors import KNeighborsClassifier\n",
    "from sklearn.linear_model import LogisticRegression\n",
    "from sklearn.tree import DecisionTreeClassifier\n",
    "from sklearn.ensemble import RandomForestClassifier\n",
    "from sklearn.ensemble import VotingClassifier\n",
    "from sklearn.ensemble import AdaBoostClassifier\n",
    "from sklearn.ensemble import StackingClassifier\n",
    "from xgboost import XGBClassifier\n",
    "\n",
    "from sklearn.model_selection import train_test_split\n",
    "from sklearn.pipeline import Pipeline\n",
    "from sklearn.decomposition import PCA\n",
    "from sklearn.preprocessing import StandardScaler\n",
    "from sklearn.cluster import KMeans\n",
    "from sklearn.model_selection import GridSearchCV\n",
    "\n",
    "import warnings\n",
    "warnings.filterwarnings('ignore')"
   ]
  },
  {
   "cell_type": "code",
   "execution_count": null,
   "metadata": {},
   "outputs": [],
   "source": [
    "# plot dog photos from the 'dogs vs cats' dataset\n",
    "folder = 'train/'\n",
    "\n",
    "for i in range(9):\n",
    "    pyplot.subplot(330 + 1 + i)\n",
    "    filename = folder + 'dog.' + str(i) + '.jpg'\n",
    "    # load image pixels\n",
    "    image = imread(filename)\n",
    "    # plot raw pixel data\n",
    "    pyplot.imshow(image)\n",
    "# show the figure\n",
    "pyplot.show()"
   ]
  },
  {
   "cell_type": "code",
   "execution_count": null,
   "metadata": {},
   "outputs": [],
   "source": [
    "# plot cat photos from the 'dogs vs cats' dataset\n",
    "folder = 'train/'\n",
    "\n",
    "for i in range(9):\n",
    "    pyplot.subplot(330 + 1 + i)\n",
    "    filename = folder + 'cat.' + str(i) + '.jpg'\n",
    "    # load image pixels\n",
    "    image = imread(filename)\n",
    "    # plot raw pixel data\n",
    "    pyplot.imshow(image)\n",
    "# show the figure\n",
    "pyplot.show()"
   ]
  },
  {
   "cell_type": "markdown",
   "metadata": {},
   "source": [
    "<div class=\"alert alert-block alert-warning\">\n",
    "\n",
    "\n",
    "### define two functions for reading images into a DataFrame\n",
    "   * **readImg_gray**: \n",
    "       1. gets file path and returns vector of the resized image in grayScale\n",
    "       2. Turning the color to gray to reduce dimensions.\n",
    "   * **pre**:  \n",
    "       1. insert images into DataFrame\n",
    "       2. add label column (**cat = 0, dog = 1**)\n",
    "    \n",
    "<div>"
   ]
  },
  {
   "cell_type": "code",
   "execution_count": 4,
   "metadata": {},
   "outputs": [],
   "source": [
    "def readImg_gray(file_path):\n",
    "    img = imread(file_path)\n",
    "    gray_img = cv2.cvtColor(img, cv2.COLOR_BGR2GRAY)\n",
    "    resized_img = cv2.resize(gray_img, (128,128))\n",
    "    return resized_img"
   ]
  },
  {
   "cell_type": "code",
   "execution_count": 5,
   "metadata": {},
   "outputs": [],
   "source": [
    "def pre(name, num):    \n",
    "    m=12500 #number of images\n",
    "    size = 128*128 #image size\n",
    "    X = np.ndarray((m,size), dtype=np.uint8)\n",
    "    y = np.zeros((m,1))\n",
    "    folder = 'train/'\n",
    "    for i in range(m):\n",
    "        img = readImg_gray(folder + name+ '.' + str(i) + '.jpg')\n",
    "        X[i,:] = np.squeeze(img.reshape((size,1)))\n",
    "        y[i,0] = num\n",
    "        \n",
    "        df = pd.DataFrame(X)\n",
    "        df['label'] = y\n",
    "    return df"
   ]
  },
  {
   "cell_type": "code",
   "execution_count": 6,
   "metadata": {},
   "outputs": [],
   "source": [
    "#train_df\n",
    "df_cat = pre('cat',0)\n",
    "df_dog = pre('dog',1)"
   ]
  },
  {
   "cell_type": "code",
   "execution_count": null,
   "metadata": {},
   "outputs": [],
   "source": [
    "#test_df\n",
    "df_cat_test = pre('cat',0)\n",
    "df_dog_test = pre('dog',1)"
   ]
  },
  {
   "cell_type": "markdown",
   "metadata": {},
   "source": [
    "<div class=\"alert alert-block alert-warning\">\n",
    "\n",
    "\n",
    "**concat both dataFrames into one**\n",
    "    \n",
    "<div>"
   ]
  },
  {
   "cell_type": "code",
   "execution_count": 7,
   "metadata": {},
   "outputs": [
    {
     "data": {
      "text/plain": [
       "(25000, 16385)"
      ]
     },
     "execution_count": 7,
     "metadata": {},
     "output_type": "execute_result"
    }
   ],
   "source": [
    "df = pd.concat([df_cat, df_dog])\n",
    "df.shape"
   ]
  },
  {
   "cell_type": "code",
   "execution_count": null,
   "metadata": {},
   "outputs": [],
   "source": [
    "df_test = pd.concat([df_cat_test, df_dog_test])\n",
    "df_test.shape"
   ]
  },
  {
   "cell_type": "code",
   "execution_count": 8,
   "metadata": {},
   "outputs": [],
   "source": [
    "y = df['label']\n",
    "X = df.drop(['label'], axis=1).to_numpy()\n",
    "\n",
    "y_test_f = df_test['label']\n",
    "X_test_f = df_test.drop(['label'], axis=1).to_numpy()"
   ]
  },
  {
   "cell_type": "markdown",
   "metadata": {},
   "source": [
    "<div class=\"alert alert-block alert-warning\">\n",
    "\n",
    "\n",
    "## pca - dimensionality reduction\n",
    "   * **original image:** 784 fitures\n",
    "   * **image after pca:** 15 fitures\n",
    "    \n",
    "<div>"
   ]
  },
  {
   "cell_type": "code",
   "execution_count": null,
   "metadata": {},
   "outputs": [],
   "source": [
    "# visualization - 'original image' (784 fitures) vs 'image after pca' (16 fitures) \n",
    "pca = PCA(n_components=16)\n",
    "X_train_reduced = pca.fit_transform(X_train)\n",
    "\n",
    "for i in range(3):\n",
    "    plt.figure(figsize=(6,4))\n",
    "    plt.subplot(2, 2, 1)\n",
    "    plt.imshow(X_test[i].reshape(28,28), cmap=\"gist_yarg\")\n",
    "    plt.title(\"Original Image\", color = \"green\")\n",
    "    plt.axis(\"off\")\n",
    "\n",
    "    plt.subplot(2, 2, 2)\n",
    "    plt.imshow(X_train_reduced[i].reshape(4,4), cmap=\"gist_yarg\")\n",
    "    plt.title(\"image after pca\", color = \"Darkred\")\n",
    "    plt.axis(\"off\")\n",
    "    plt.show()"
   ]
  },
  {
   "cell_type": "markdown",
   "metadata": {},
   "source": [
    "<div class=\"alert alert-block alert-warning\">\n",
    "    \n",
    "## Selecting a Kernel and Tuning Hyperparameters\n",
    "   1. scaling\n",
    "   2. pca (n_components=15)\n",
    "   3. GridSearch: find best parameters in each model\n",
    "   4. compare models\n",
    "    \n",
    "<div>"
   ]
  },
  {
   "cell_type": "code",
   "execution_count": 9,
   "metadata": {},
   "outputs": [],
   "source": [
    "scaler = StandardScaler()\n",
    "X_scaled = scaler.fit_transform(X)\n",
    "\n",
    "pca = PCA(n_components=15)\n",
    "\n",
    "X_train, X_test, y_train, y_test = train_test_split(X, y, test_size = 0.3, random_state=42, shuffle = True)\n",
    "\n",
    "Kfolds = StratifiedKFold(n_splits=5,shuffle=True, random_state=7)"
   ]
  },
  {
   "cell_type": "code",
   "execution_count": 10,
   "metadata": {},
   "outputs": [],
   "source": [
    "model_params = {\n",
    "    'random_forest':{\n",
    "        'model': RandomForestClassifier(),\n",
    "        'params': {\n",
    "            'n_estimators': [100, 150],\n",
    "            'max_depth': [10,20,50,80,100]\n",
    "        }\n",
    "    },\n",
    "    \n",
    "    'logistic_regression':{\n",
    "        'model': LogisticRegression(multi_class= 'auto'),\n",
    "        'params': {\n",
    "            'solver': ['newton-cg', 'lbfgs', 'liblinear', 'sag', 'saga'],\n",
    "            'C': [0.1, 0.5, 1.0]\n",
    "        }\n",
    "    },\n",
    "    \n",
    "    'xgb':{\n",
    "        'model': XGBClassifier(eval_metric='mlogloss'),\n",
    "        'params':{\n",
    "            'n_estimators': [100, 150],\n",
    "            'learning_rate': [0.0001, 0.001, 0.01, 0.1, 0.2, 0.3]            \n",
    "        }\n",
    "    },\n",
    "    \n",
    "    'knn':{\n",
    "        'model': KNeighborsClassifier(),\n",
    "        'params': {\n",
    "            'n_neighbors': [5,7,10, 15],\n",
    "            'algorithm': ['auto', 'ball_tree', 'kd_tree', 'brute']\n",
    "        }\n",
    "    }\n",
    "}"
   ]
  },
  {
   "cell_type": "code",
   "execution_count": null,
   "metadata": {},
   "outputs": [],
   "source": [
    "from sklearn.model_selection import RandomizedSearchCV\n",
    "scores = []\n",
    "\n",
    "for model_name, mp in model_params.items():\n",
    "    rs = RandomizedSearchCV(mp['model'], mp['params'], cv = Kfolds, return_train_score= False, n_iter= 6)\n",
    "    rs.fit(X_train, y_train)\n",
    "    scores.append({\n",
    "        'model': model_name,\n",
    "        'best score': clf.best_score_,\n",
    "        'best params': clf.best_params_\n",
    "    })"
   ]
  },
  {
   "cell_type": "code",
   "execution_count": null,
   "metadata": {},
   "outputs": [],
   "source": [
    "score_df = pd.DataFrame(scores)\n",
    "score_df"
   ]
  },
  {
   "cell_type": "markdown",
   "metadata": {},
   "source": [
    "**after finding best parameters, we will use them to get to best score.<br> 'xgb' and 'random_forest' got the best score, therefore we will use both.**\n",
    "\n",
    "<div class=\"alert alert-block alert-warning\">\n",
    "    \n",
    "### pipeLine: \n",
    "   * scale by StandardScaler\n",
    "   * dimentionality reduction by PCA\n",
    "   * fit\n",
    "   * score\n",
    "<div>\n",
    "    \n",
    "    \n",
    "**first test on train data (split to train & test),<br> and after choosing the best model test on the final test data.**"
   ]
  },
  {
   "cell_type": "code",
   "execution_count": null,
   "metadata": {},
   "outputs": [],
   "source": [
    "def pipe(model):\n",
    "    p = Pipeline([('scaler', StandardScaler()),\n",
    "                ('pca', PCA(n_components=15)),\n",
    "                ('mod', model)])\n",
    "    p.fit(X_train, y_train)\n",
    "    return round(p.score(X_test, y_test),4)"
   ]
  },
  {
   "cell_type": "code",
   "execution_count": null,
   "metadata": {},
   "outputs": [],
   "source": [
    "xgb = pipe(XGBClassifier(learning_rate=0.2, n_estimators=150))\n",
    "xgb"
   ]
  },
  {
   "cell_type": "code",
   "execution_count": null,
   "metadata": {},
   "outputs": [],
   "source": [
    "randomForest = pipe(RandomForestClassifier(max_depth=80, n_estimators=150))\n",
    "randomForest"
   ]
  },
  {
   "cell_type": "code",
   "execution_count": null,
   "metadata": {},
   "outputs": [],
   "source": [
    "#stacking\n",
    "pipeline = Pipeline([\n",
    "    ('scaler', StandardScaler()),\n",
    "    ('pca', PCA(n_components=15)),\n",
    "    ('stack', StackingClassifier([\n",
    "        ('rf', RandomForestClassifier(max_depth=80, n_estimators=150)),    \n",
    "        ('knn', KNeighborsClassifier(n_neighbors=7, algorithm='auto'),\n",
    "        ('xgb', XGBClassifier(eval_metric='mlogloss', learning_rate=0.2, n_estimators=150))\n",
    "        )]))])\n",
    "\n",
    "pipeline.fit(X_train, y_train)\n",
    "round(pipeline.score(X_test, y_test),4)"
   ]
  },
  {
   "cell_type": "code",
   "execution_count": null,
   "metadata": {},
   "outputs": [],
   "source": [
    "#voting\n",
    "pipeline = Pipeline([\n",
    "    ('scaler1', StandardScaler()),\n",
    "    ('pca1', PCA(n_components=15)),\n",
    "    ('clf', VotingClassifier([\n",
    "        ('rf', RandomForestClassifier(max_depth=80, n_estimators=150)),\n",
    "        ('knn',KNeighborsClassifier(n_neighbors=7, algorithm='auto')),\n",
    "        ('xgb', XGBClassifier(learning_rate=0.2, n_estimators=150))],voting='soft'))])\n",
    "\n",
    "pipeline.fit(X_train, y_train)\n",
    "y_pred = pipeline.predict(X_test)\n",
    "round(pipeline.score(X_test, y_test),4)"
   ]
  },
  {
   "cell_type": "markdown",
   "metadata": {},
   "source": [
    "<div class=\"alert alert-block alert-success\">\n",
    "\n",
    "## *#1_conclusions:*\n",
    "\n",
    "*after dimensionality reduction with PCA, from **784** features to **15** features.*\n",
    "\n",
    "### accuracy:\n",
    "\n",
    "   * RandomForestClassifier: \n",
    "   * xgb: \n",
    "   * stacking: \n",
    "   * voting: \n",
    "   \n",
    "   \n",
    "### best model:\n",
    "    \n",
    "    \n",
    "<div>"
   ]
  },
  {
   "cell_type": "markdown",
   "metadata": {},
   "source": [
    "<div class=\"alert alert-block alert-warning\">\n",
    "\n",
    "    \n",
    "### Test 'voting' model on final Test Data\n",
    "\n",
    "    \n",
    "<div>"
   ]
  },
  {
   "cell_type": "code",
   "execution_count": null,
   "metadata": {},
   "outputs": [],
   "source": [
    "report = classification_report(y_test_f, y_pred, output_dict=True)\n",
    "df_report = pd.DataFrame(report)\n",
    "df_report"
   ]
  },
  {
   "cell_type": "code",
   "execution_count": null,
   "metadata": {},
   "outputs": [],
   "source": [
    "from sklearn import metrics\n",
    "from sklearn.metrics import confusion_matrix\n",
    "plt.figure(figsize=(8,5))\n",
    "cnf_matrix = confusion_matrix(y_test_f, y_pred)\n",
    "\n",
    "# create seabvorn heatmap with required labels\n",
    "axis_labels = ['T-shirt', 'Trouser', 'Pullover', 'Dress', 'Coat', 'Sandal', 'Shirt', 'Sneaker', 'Bag', 'Ankle boot'] # labels for x-axis\n",
    "sns.heatmap(pd.DataFrame(cnf_matrix), annot=True,cmap=\"Blues\" , fmt='g', xticklabels=axis_labels, yticklabels=axis_labels, linewidths=0.1)\n",
    "\n",
    "plt.tight_layout()\n",
    "plt.title('Confusion matrix voting\\n',fontsize=20)"
   ]
  },
  {
   "cell_type": "markdown",
   "metadata": {},
   "source": [
    "<div class=\"alert alert-block alert-success\">\n",
    "    \n",
    "## *#2_conclusions:*\n",
    "    \n",
    "## voting: 85% accuracy with 15 features\n",
    "    \n",
    "### NOTE: the model is tested only once in the final test data to maintain purity!"
   ]
  }
 ],
 "metadata": {
  "kernelspec": {
   "display_name": "Python 3",
   "language": "python",
   "name": "python3"
  },
  "language_info": {
   "codemirror_mode": {
    "name": "ipython",
    "version": 3
   },
   "file_extension": ".py",
   "mimetype": "text/x-python",
   "name": "python",
   "nbconvert_exporter": "python",
   "pygments_lexer": "ipython3",
   "version": "3.8.3"
  }
 },
 "nbformat": 4,
 "nbformat_minor": 4
}
