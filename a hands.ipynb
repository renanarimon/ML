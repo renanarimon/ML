{
 "cells": [
  {
   "cell_type": "markdown",
   "metadata": {},
   "source": [
    "<div class=\"alert alert-block alert-info\">\n",
    "    \n",
    "# Hands\n",
    "## Renana Rimon\n",
    "    \n",
    "<div>"
   ]
  },
  {
   "cell_type": "code",
   "execution_count": 96,
   "metadata": {},
   "outputs": [],
   "source": [
    "import os, cv2\n",
    "import numpy as np \n",
    "import pandas as pd \n",
    "import seaborn as sns\n",
    "import matplotlib.pyplot as plt\n",
    "\n",
    "from sklearn.neighbors import KNeighborsClassifier\n",
    "from sklearn.linear_model import LogisticRegression\n",
    "from sklearn.tree import DecisionTreeClassifier\n",
    "from sklearn.ensemble import RandomForestClassifier\n",
    "from sklearn.ensemble import VotingClassifier\n",
    "from sklearn.ensemble import AdaBoostClassifier\n",
    "from sklearn.ensemble import StackingClassifier\n",
    "from xgboost import XGBClassifier\n",
    "\n",
    "from sklearn.model_selection import train_test_split\n",
    "from sklearn.pipeline import Pipeline\n",
    "from sklearn.decomposition import PCA\n",
    "from sklearn.preprocessing import StandardScaler\n",
    "from sklearn.model_selection import StratifiedKFold\n",
    "from sklearn.model_selection import GridSearchCV\n",
    "from sklearn.metrics import classification_report"
   ]
  },
  {
   "cell_type": "code",
   "execution_count": 2,
   "metadata": {},
   "outputs": [],
   "source": [
    "import warnings\n",
    "warnings.filterwarnings('ignore')"
   ]
  },
  {
   "cell_type": "markdown",
   "metadata": {},
   "source": [
    "<div class=\"alert alert-info\" role=\"alert\">\n",
    "\n",
    "## label explaination: <br>\n",
    "**0 = spontanic <br>\n",
    "1 = sync<br>\n",
    "2 = alone**\n",
    "<div>"
   ]
  },
  {
   "cell_type": "markdown",
   "metadata": {},
   "source": [
    "<div class=\"alert alert-warning\" role=\"alert\">\n",
    "\n",
    "### read function:\n",
    "    \n",
    "1. read csv\n",
    "2. delete 7 first rows\n",
    "3. delete spaces from columns\n",
    "4. split df to half: right & left\n",
    "5. enclose right hand to 'alone'\n",
    "6. concat left & right to same row\n",
    "7. take every 5th row\n",
    "8. combine every 3 rows into one\n",
    "\n",
    "<div>"
   ]
  },
  {
   "cell_type": "code",
   "execution_count": 4,
   "metadata": {},
   "outputs": [],
   "source": [
    "# split df to half: right & left\n",
    "def split(df) :\n",
    "    half = int(len(df)/2)\n",
    "    hd = df.head(half)\n",
    "    tl = df.tail(len(df)-half)\n",
    "    hd = hd.reset_index(drop=True)\n",
    "    tl = tl.reset_index(drop=True)\n",
    "    return hd, tl\n"
   ]
  },
  {
   "cell_type": "code",
   "execution_count": 5,
   "metadata": {},
   "outputs": [],
   "source": [
    "# rename cols with L/R and num\n",
    "def rename(df, char):\n",
    "    for col in df.columns:\n",
    "        col1 = char+col\n",
    "        df = df.rename({col: col1}, axis=1)\n",
    "    return df"
   ]
  },
  {
   "cell_type": "code",
   "execution_count": 6,
   "metadata": {},
   "outputs": [],
   "source": [
    "#import HandRight\n",
    "HandRight = pd.read_csv(r'HandRight.csv').iloc[8:,:]\n",
    "for col in HandRight.columns:\n",
    "    col1 = col.replace(\" \", \"_\")\n",
    "    HandRight = HandRight.rename({col: col1}, axis=1)\n",
    "HandRight = HandRight.rename({'_#_hands': 'hands_num'}, axis=1) \n",
    "HandRight = HandRight[HandRight._Hand_Type == 'right']\n",
    "HandRight = HandRight.dropna().reset_index(drop=True)"
   ]
  },
  {
   "cell_type": "code",
   "execution_count": 7,
   "metadata": {},
   "outputs": [],
   "source": [
    "#combine every few rows into one\n",
    "def combine(df,numOfRows):\n",
    "    \n",
    "    for i in range(1, numOfRows+1):\n",
    "        line = [\"{}{}\".format(ind,'_'+str(i)) for ind in df.columns]\n",
    "        if i==1:\n",
    "            lineTotal = line\n",
    "            lineArr = [line]\n",
    "        else:\n",
    "            lineTotal = lineTotal + line\n",
    "            lineArr.append(line)\n",
    "\n",
    "    headlines = pd.DataFrame(columns = lineTotal)\n",
    "\n",
    "    \n",
    "    for i in range(0, len(df)-len(df)%numOfRows, numOfRows):\n",
    "    \n",
    "        for j in range(0, numOfRows):\n",
    "            listj = df.loc[i+j]\n",
    "            listj.index = lineArr[j]\n",
    "            if j==0:\n",
    "                arr = [listj]\n",
    "            else:\n",
    "                arr.append(listj)\n",
    "    \n",
    "        jumpRows = pd.concat(arr)\n",
    "        headlines = headlines.append(jumpRows, ignore_index = True)\n",
    "        \n",
    "    return headlines"
   ]
  },
  {
   "cell_type": "code",
   "execution_count": null,
   "metadata": {},
   "outputs": [],
   "source": [
    "def read(path, num):\n",
    "    df = pd.read_csv(path).iloc[8:,:]\n",
    "        \n",
    "    #delete spaces from columns\n",
    "    for col in df.columns:\n",
    "        col1 = col.replace(\" \", \"_\")\n",
    "        df = df.rename({col: col1}, axis=1)    \n",
    "    df = df.rename({'_#_hands': 'hands_num'}, axis=1)  \n",
    "    \n",
    "    # 0/1 -> split \n",
    "    if(num != 2):\n",
    "        df = df[df.hands_num == 2] # ensure hands_num is correct\n",
    "        df = df.sort_values(by=['_Hand_Type'])\n",
    "        left, right =split(df)\n",
    "    \n",
    "    \n",
    "    # 2 -> enclose right hand\n",
    "    else:\n",
    "        left = df[df.hands_num == 1].reset_index(drop=True)\n",
    "        right = HandRight.iloc[8:,:]\n",
    "        if len(left)>len(right):\n",
    "            right = right.append(right.iloc[8:(len(left)-len(right)+8),:]).reset_index(drop=True)\n",
    "        else:\n",
    "            right = right.iloc[:len(left),:]\n",
    "    \n",
    "    #concat left & right to same row\n",
    "    left = rename(left, 'L')\n",
    "    right = rename(right, 'R')\n",
    "    df = pd.concat([left, right], axis=1)\n",
    "    df = df.drop(['LTime', 'RTime', 'L_Frame_ID', 'R_Frame_ID', 'Lhands_num', 'Rhands_num'], axis=1)\n",
    "    \n",
    "    #take every 5th row\n",
    "    df = df[df.index % 5 == 0].reset_index(drop=True)\n",
    "    \n",
    "    #combine every 3 rows into one\n",
    "    df = combine(df,3)\n",
    "    \n",
    "    #label\n",
    "    df['label']=num\n",
    "    \n",
    "    return df"
   ]
  },
  {
   "cell_type": "markdown",
   "metadata": {},
   "source": [
    "<div class=\"alert alert-block alert-warning\">\n",
    "\n",
    "### import train data\n",
    "    \n",
    "<div>"
   ]
  },
  {
   "cell_type": "code",
   "execution_count": 8,
   "metadata": {},
   "outputs": [],
   "source": [
    "#evyatar\n",
    "ev_spo = read(r'Evyatar636771052727603804Spontan.csv',0)\n",
    "ev_sync = read(r'Evyatar636771053639929594Sync.csv',1)\n",
    "ev_al = read(r'Evyatar636771054555711409Alone.csv',2)"
   ]
  },
  {
   "cell_type": "code",
   "execution_count": 9,
   "metadata": {},
   "outputs": [],
   "source": [
    "#nofar\n",
    "nofar_spo = read(r'Nofar636759795182793299Spontan.csv',0)\n",
    "nofar_sync = read(r'Nofar636759797397919664Sync.csv',1)\n",
    "nofar_al = read(r'Nofar636759796290435160Alone.csv',2)"
   ]
  },
  {
   "cell_type": "code",
   "execution_count": 10,
   "metadata": {},
   "outputs": [],
   "source": [
    "#oriya\n",
    "oriya_spo = read(r'Oriya636759804404113837Spontan.csv',0)\n",
    "oriya_sync = read(r'Oriya636759806131350399Sync.csv',1)\n",
    "oriya_al = read(r'Oriya636759805268396661Alone.csv',2)\n"
   ]
  },
  {
   "cell_type": "code",
   "execution_count": 11,
   "metadata": {},
   "outputs": [],
   "source": [
    "#orya\n",
    "orya_spo = read(r'OryaB636771083605535985Spontan.csv',0)\n",
    "orya_sync = read(r'OryaB636771084494502229Sync.csv',1)\n",
    "orya_al = read(r'OryaB636771082736601528Alone.csv',2)\n"
   ]
  },
  {
   "cell_type": "code",
   "execution_count": 12,
   "metadata": {},
   "outputs": [],
   "source": [
    "#revital\n",
    "rev_spo = read(r'Revital636770957038873193Spontan.csv',0)\n",
    "rev_sync = read(r'Revital636770957894370062Sync.csv',1)\n",
    "rev_al = read(r'Revital636770955999435879Alone.csv',2)\n"
   ]
  },
  {
   "cell_type": "code",
   "execution_count": 13,
   "metadata": {},
   "outputs": [],
   "source": [
    "#sachar\n",
    "sachar_spo = read(r'Sachar636771045591258071Spontan.csv',0)\n",
    "sachar_sync = read(r'Sachar636771046527112972Sync.csv',1)\n",
    "sachar_al = read(r'Sachar636771047408504303Alone.csv',2)\n"
   ]
  },
  {
   "cell_type": "code",
   "execution_count": 14,
   "metadata": {},
   "outputs": [],
   "source": [
    "#shelly\n",
    "shelly_spo = read(r'Shelly636759787508979097Spontan.csv',0)\n",
    "shelly_sync = read(r'Shelly636759789526313406Sync.csv',1)\n",
    "shelly_al = read(r'Shelly636759788383205274Alone.csv',2)\n"
   ]
  },
  {
   "cell_type": "code",
   "execution_count": 15,
   "metadata": {},
   "outputs": [],
   "source": [
    "#yael\n",
    "yael_spo = read(r'Yael636771059544754823Spontan.csv',0)\n",
    "yael_sync = read(r'Yael636771060699529085Sync.csv',1)\n",
    "yael_al = read(r'Yael636771061659067649Alone.csv',2)\n"
   ]
  },
  {
   "cell_type": "code",
   "execution_count": 16,
   "metadata": {},
   "outputs": [],
   "source": [
    "#yoel\n",
    "yoel_spo = read(r'Yoel636760921663075813Spontan.csv',0)\n",
    "yoel_sync = read(r'Yoel636760923490742912Sync.csv',1)\n",
    "yoel_al = read(r'Yoel636760922573364655Alone.csv',2)"
   ]
  },
  {
   "cell_type": "code",
   "execution_count": 102,
   "metadata": {},
   "outputs": [],
   "source": [
    "dataFrames = [ev_spo, nofar_spo, oriya_spo, orya_spo,rev_spo, sachar_spo, shelly_spo, yael_spo, yoel_spo,\n",
    "         ev_sync, nofar_sync, oriya_sync, orya_sync,rev_sync, sachar_sync, shelly_sync, yael_sync, yoel_sync,\n",
    "         ev_al, nofar_al, oriya_al, orya_al,rev_al, sachar_al, shelly_al, yael_al, yoel_al ]\n",
    "\n",
    "df = pd.concat(dataFrames)"
   ]
  },
  {
   "cell_type": "code",
   "execution_count": 103,
   "metadata": {},
   "outputs": [],
   "source": [
    "# Hand_Type from string to int: left = 0, right = 1\n",
    "def numeric(df):\n",
    "    for col in df.columns:    \n",
    "        if(\"Hand_Type\" in col):\n",
    "            if (\"L\" in col):\n",
    "                df[col] = pd.to_numeric(df[col], errors='coerce').fillna(0).astype(np.int64)\n",
    "            else:\n",
    "                df[col] = pd.to_numeric(df[col], errors='coerce').fillna(1).astype(np.int64)"
   ]
  },
  {
   "cell_type": "code",
   "execution_count": 104,
   "metadata": {},
   "outputs": [],
   "source": [
    "numeric(df)"
   ]
  },
  {
   "cell_type": "code",
   "execution_count": 112,
   "metadata": {},
   "outputs": [
    {
     "data": {
      "text/plain": [
       "126"
      ]
     },
     "execution_count": 112,
     "metadata": {},
     "output_type": "execute_result"
    }
   ],
   "source": [
    "df.isna().sum().sum()"
   ]
  },
  {
   "cell_type": "code",
   "execution_count": 109,
   "metadata": {},
   "outputs": [
    {
     "data": {
      "text/html": [
       "<div>\n",
       "<style scoped>\n",
       "    .dataframe tbody tr th:only-of-type {\n",
       "        vertical-align: middle;\n",
       "    }\n",
       "\n",
       "    .dataframe tbody tr th {\n",
       "        vertical-align: top;\n",
       "    }\n",
       "\n",
       "    .dataframe thead th {\n",
       "        text-align: right;\n",
       "    }\n",
       "</style>\n",
       "<table border=\"1\" class=\"dataframe\">\n",
       "  <thead>\n",
       "    <tr style=\"text-align: right;\">\n",
       "      <th></th>\n",
       "      <th>total_sum</th>\n",
       "      <th>percentage</th>\n",
       "    </tr>\n",
       "  </thead>\n",
       "  <tbody>\n",
       "    <tr>\n",
       "      <th>R_Wrist_Pos_Y_2</th>\n",
       "      <td>2</td>\n",
       "      <td>0.026575</td>\n",
       "    </tr>\n",
       "    <tr>\n",
       "      <th>L_Position_X_3</th>\n",
       "      <td>2</td>\n",
       "      <td>0.026575</td>\n",
       "    </tr>\n",
       "    <tr>\n",
       "      <th>R_Position_Z_2</th>\n",
       "      <td>2</td>\n",
       "      <td>0.026575</td>\n",
       "    </tr>\n",
       "    <tr>\n",
       "      <th>R_Velocity_X_2</th>\n",
       "      <td>2</td>\n",
       "      <td>0.026575</td>\n",
       "    </tr>\n",
       "    <tr>\n",
       "      <th>R_Velocity_Y_2</th>\n",
       "      <td>2</td>\n",
       "      <td>0.026575</td>\n",
       "    </tr>\n",
       "    <tr>\n",
       "      <th>...</th>\n",
       "      <td>...</td>\n",
       "      <td>...</td>\n",
       "    </tr>\n",
       "    <tr>\n",
       "      <th>L_Elbow_Pos_Z_2</th>\n",
       "      <td>1</td>\n",
       "      <td>0.013287</td>\n",
       "    </tr>\n",
       "    <tr>\n",
       "      <th>L_Grab_Strenth_2</th>\n",
       "      <td>1</td>\n",
       "      <td>0.013287</td>\n",
       "    </tr>\n",
       "    <tr>\n",
       "      <th>L_Grab_Angle_2</th>\n",
       "      <td>1</td>\n",
       "      <td>0.013287</td>\n",
       "    </tr>\n",
       "    <tr>\n",
       "      <th>L_Pinch_Strength_2</th>\n",
       "      <td>1</td>\n",
       "      <td>0.013287</td>\n",
       "    </tr>\n",
       "    <tr>\n",
       "      <th>L_Elbow_pos_X_2</th>\n",
       "      <td>1</td>\n",
       "      <td>0.013287</td>\n",
       "    </tr>\n",
       "  </tbody>\n",
       "</table>\n",
       "<p>72 rows × 2 columns</p>\n",
       "</div>"
      ],
      "text/plain": [
       "                    total_sum  percentage\n",
       "R_Wrist_Pos_Y_2             2    0.026575\n",
       "L_Position_X_3              2    0.026575\n",
       "R_Position_Z_2              2    0.026575\n",
       "R_Velocity_X_2              2    0.026575\n",
       "R_Velocity_Y_2              2    0.026575\n",
       "...                       ...         ...\n",
       "L_Elbow_Pos_Z_2             1    0.013287\n",
       "L_Grab_Strenth_2            1    0.013287\n",
       "L_Grab_Angle_2              1    0.013287\n",
       "L_Pinch_Strength_2          1    0.013287\n",
       "L_Elbow_pos_X_2             1    0.013287\n",
       "\n",
       "[72 rows x 2 columns]"
      ]
     },
     "execution_count": 109,
     "metadata": {},
     "output_type": "execute_result"
    }
   ],
   "source": [
    "# calcuate the precentage to understand the impact of the NaN on the data set\n",
    "total_sum = df.isnull().sum().sort_values(ascending=False)\n",
    "percentage = (total_sum/df.isnull().count())*100\n",
    "df1 = pd.concat([total_sum, percentage], axis=1, keys=['total_sum', 'percentage'])\n",
    "df2 = df1[df1['total_sum']>0]\n",
    "df2"
   ]
  },
  {
   "cell_type": "code",
   "execution_count": 113,
   "metadata": {},
   "outputs": [],
   "source": [
    "df = df.dropna()"
   ]
  },
  {
   "cell_type": "code",
   "execution_count": 64,
   "metadata": {},
   "outputs": [
    {
     "data": {
      "text/html": [
       "<div>\n",
       "<style scoped>\n",
       "    .dataframe tbody tr th:only-of-type {\n",
       "        vertical-align: middle;\n",
       "    }\n",
       "\n",
       "    .dataframe tbody tr th {\n",
       "        vertical-align: top;\n",
       "    }\n",
       "\n",
       "    .dataframe thead th {\n",
       "        text-align: right;\n",
       "    }\n",
       "</style>\n",
       "<table border=\"1\" class=\"dataframe\">\n",
       "  <thead>\n",
       "    <tr style=\"text-align: right;\">\n",
       "      <th></th>\n",
       "      <th>L_Hand_Type_1</th>\n",
       "      <th>L_Position_X_1</th>\n",
       "      <th>L_Position_Y_1</th>\n",
       "      <th>L_Position_Z_1</th>\n",
       "      <th>L_Velocity_X_1</th>\n",
       "      <th>L_Velocity_Y_1</th>\n",
       "      <th>L_Velocity_Z_1</th>\n",
       "      <th>L_Pitch_1</th>\n",
       "      <th>L_Roll_1</th>\n",
       "      <th>L_Yaw_1</th>\n",
       "      <th>...</th>\n",
       "      <th>R_Wrist_Pos_X_3</th>\n",
       "      <th>R_Wrist_Pos_Y_3</th>\n",
       "      <th>R_Wrist_Pos_Z_3</th>\n",
       "      <th>R_Elbow_pos_X_3</th>\n",
       "      <th>R_Elbow_Pos_Y_3</th>\n",
       "      <th>R_Elbow_Pos_Z_3</th>\n",
       "      <th>R_Grab_Strenth_3</th>\n",
       "      <th>R_Grab_Angle_3</th>\n",
       "      <th>R_Pinch_Strength_3</th>\n",
       "      <th>label</th>\n",
       "    </tr>\n",
       "  </thead>\n",
       "  <tbody>\n",
       "    <tr>\n",
       "      <th>0</th>\n",
       "      <td>0</td>\n",
       "      <td>-102.09200</td>\n",
       "      <td>198.4801</td>\n",
       "      <td>36.821470</td>\n",
       "      <td>-143.442100</td>\n",
       "      <td>162.22250</td>\n",
       "      <td>138.81830</td>\n",
       "      <td>1.044945</td>\n",
       "      <td>0.220119</td>\n",
       "      <td>1.257915</td>\n",
       "      <td>...</td>\n",
       "      <td>205.1825</td>\n",
       "      <td>175.7701</td>\n",
       "      <td>14.586860</td>\n",
       "      <td>355.5135</td>\n",
       "      <td>38.01317</td>\n",
       "      <td>151.41010</td>\n",
       "      <td>0.0</td>\n",
       "      <td>0.000000</td>\n",
       "      <td>0.000000</td>\n",
       "      <td>0</td>\n",
       "    </tr>\n",
       "    <tr>\n",
       "      <th>1</th>\n",
       "      <td>0</td>\n",
       "      <td>-87.01425</td>\n",
       "      <td>181.4484</td>\n",
       "      <td>2.391368</td>\n",
       "      <td>0.267130</td>\n",
       "      <td>-39.35226</td>\n",
       "      <td>-14.64911</td>\n",
       "      <td>1.590843</td>\n",
       "      <td>0.713496</td>\n",
       "      <td>1.588960</td>\n",
       "      <td>...</td>\n",
       "      <td>149.3343</td>\n",
       "      <td>195.8305</td>\n",
       "      <td>18.134420</td>\n",
       "      <td>303.8842</td>\n",
       "      <td>50.75324</td>\n",
       "      <td>142.53030</td>\n",
       "      <td>0.0</td>\n",
       "      <td>0.600372</td>\n",
       "      <td>0.000000</td>\n",
       "      <td>0</td>\n",
       "    </tr>\n",
       "    <tr>\n",
       "      <th>2</th>\n",
       "      <td>0</td>\n",
       "      <td>-88.35677</td>\n",
       "      <td>117.5149</td>\n",
       "      <td>-1.507066</td>\n",
       "      <td>4.879696</td>\n",
       "      <td>-106.04380</td>\n",
       "      <td>30.13123</td>\n",
       "      <td>1.388725</td>\n",
       "      <td>0.532217</td>\n",
       "      <td>1.460566</td>\n",
       "      <td>...</td>\n",
       "      <td>165.8512</td>\n",
       "      <td>289.5272</td>\n",
       "      <td>23.289340</td>\n",
       "      <td>309.1972</td>\n",
       "      <td>101.78370</td>\n",
       "      <td>91.19925</td>\n",
       "      <td>0.0</td>\n",
       "      <td>0.454846</td>\n",
       "      <td>0.000000</td>\n",
       "      <td>0</td>\n",
       "    </tr>\n",
       "    <tr>\n",
       "      <th>3</th>\n",
       "      <td>0</td>\n",
       "      <td>-91.82849</td>\n",
       "      <td>187.9625</td>\n",
       "      <td>3.546683</td>\n",
       "      <td>-16.356640</td>\n",
       "      <td>-57.70452</td>\n",
       "      <td>-37.83114</td>\n",
       "      <td>1.616455</td>\n",
       "      <td>0.778057</td>\n",
       "      <td>1.621224</td>\n",
       "      <td>...</td>\n",
       "      <td>192.6499</td>\n",
       "      <td>207.2711</td>\n",
       "      <td>-2.155823</td>\n",
       "      <td>310.6127</td>\n",
       "      <td>30.43638</td>\n",
       "      <td>121.75680</td>\n",
       "      <td>0.0</td>\n",
       "      <td>0.908594</td>\n",
       "      <td>0.191551</td>\n",
       "      <td>0</td>\n",
       "    </tr>\n",
       "    <tr>\n",
       "      <th>4</th>\n",
       "      <td>0</td>\n",
       "      <td>-88.36761</td>\n",
       "      <td>185.6821</td>\n",
       "      <td>1.074904</td>\n",
       "      <td>9.990860</td>\n",
       "      <td>24.07274</td>\n",
       "      <td>-18.26352</td>\n",
       "      <td>1.561024</td>\n",
       "      <td>0.834355</td>\n",
       "      <td>1.560259</td>\n",
       "      <td>...</td>\n",
       "      <td>157.4693</td>\n",
       "      <td>267.7648</td>\n",
       "      <td>18.064220</td>\n",
       "      <td>309.6221</td>\n",
       "      <td>89.76556</td>\n",
       "      <td>92.71830</td>\n",
       "      <td>0.0</td>\n",
       "      <td>0.215488</td>\n",
       "      <td>0.000000</td>\n",
       "      <td>0</td>\n",
       "    </tr>\n",
       "  </tbody>\n",
       "</table>\n",
       "<p>5 rows × 115 columns</p>\n",
       "</div>"
      ],
      "text/plain": [
       "   L_Hand_Type_1  L_Position_X_1  L_Position_Y_1  L_Position_Z_1  \\\n",
       "0              0      -102.09200        198.4801       36.821470   \n",
       "1              0       -87.01425        181.4484        2.391368   \n",
       "2              0       -88.35677        117.5149       -1.507066   \n",
       "3              0       -91.82849        187.9625        3.546683   \n",
       "4              0       -88.36761        185.6821        1.074904   \n",
       "\n",
       "   L_Velocity_X_1  L_Velocity_Y_1  L_Velocity_Z_1  L_Pitch_1  L_Roll_1  \\\n",
       "0     -143.442100       162.22250       138.81830   1.044945  0.220119   \n",
       "1        0.267130       -39.35226       -14.64911   1.590843  0.713496   \n",
       "2        4.879696      -106.04380        30.13123   1.388725  0.532217   \n",
       "3      -16.356640       -57.70452       -37.83114   1.616455  0.778057   \n",
       "4        9.990860        24.07274       -18.26352   1.561024  0.834355   \n",
       "\n",
       "    L_Yaw_1  ...  R_Wrist_Pos_X_3  R_Wrist_Pos_Y_3  R_Wrist_Pos_Z_3  \\\n",
       "0  1.257915  ...         205.1825         175.7701        14.586860   \n",
       "1  1.588960  ...         149.3343         195.8305        18.134420   \n",
       "2  1.460566  ...         165.8512         289.5272        23.289340   \n",
       "3  1.621224  ...         192.6499         207.2711        -2.155823   \n",
       "4  1.560259  ...         157.4693         267.7648        18.064220   \n",
       "\n",
       "   R_Elbow_pos_X_3  R_Elbow_Pos_Y_3  R_Elbow_Pos_Z_3  R_Grab_Strenth_3  \\\n",
       "0         355.5135         38.01317        151.41010               0.0   \n",
       "1         303.8842         50.75324        142.53030               0.0   \n",
       "2         309.1972        101.78370         91.19925               0.0   \n",
       "3         310.6127         30.43638        121.75680               0.0   \n",
       "4         309.6221         89.76556         92.71830               0.0   \n",
       "\n",
       "   R_Grab_Angle_3  R_Pinch_Strength_3  label  \n",
       "0        0.000000            0.000000      0  \n",
       "1        0.600372            0.000000      0  \n",
       "2        0.454846            0.000000      0  \n",
       "3        0.908594            0.191551      0  \n",
       "4        0.215488            0.000000      0  \n",
       "\n",
       "[5 rows x 115 columns]"
      ]
     },
     "execution_count": 64,
     "metadata": {},
     "output_type": "execute_result"
    }
   ],
   "source": [
    "df.head()"
   ]
  },
  {
   "cell_type": "code",
   "execution_count": 65,
   "metadata": {},
   "outputs": [],
   "source": [
    "y = df['label']\n",
    "X = df.drop(['label'], axis=1)"
   ]
  },
  {
   "cell_type": "markdown",
   "metadata": {},
   "source": [
    "<div class=\"alert alert-block alert-warning\">\n",
    "\n",
    "### import Test data\n",
    "    \n",
    "<div>"
   ]
  },
  {
   "cell_type": "code",
   "execution_count": 69,
   "metadata": {},
   "outputs": [],
   "source": [
    "#test\n",
    "oded_sp = read(r'Oded636754670490266956Spontan.csv', 0)\n",
    "oded_sync = read(r'Oded636754671560850581Sync.csv', 1)\n",
    "oded_al = read(r'Oded636754669540564461Alone.csv',2)\n",
    "\n",
    "it_sp = read(r'Itiel636770940701219076Spontan.csv', 0)\n",
    "it_sync = read(r'Itiel636770941638547912Sync.csv', 1)\n",
    "it_al = read(r'Itiel636770942529041679Alone.csv',2)\n",
    "\n",
    "mor_sp = read(r'Mor636771064635567065Spontan.csv', 0)\n",
    "mor_sync = read(r'Mor636771065531910215Sync.csv', 1)\n",
    "mor_al = read(r'Mor636771066407626524Alone.csv',2)"
   ]
  },
  {
   "cell_type": "code",
   "execution_count": 87,
   "metadata": {},
   "outputs": [],
   "source": [
    "dfs = [oded_sp, oded_sync, oded_al, it_sp, it_sync, it_al, mor_sp, mor_sync, mor_al]\n",
    "df_test = pd.concat(dfs)\n",
    "numeric(df_test)\n",
    "df_test = df_test.dropna()"
   ]
  },
  {
   "cell_type": "code",
   "execution_count": 88,
   "metadata": {},
   "outputs": [
    {
     "data": {
      "text/html": [
       "<div>\n",
       "<style scoped>\n",
       "    .dataframe tbody tr th:only-of-type {\n",
       "        vertical-align: middle;\n",
       "    }\n",
       "\n",
       "    .dataframe tbody tr th {\n",
       "        vertical-align: top;\n",
       "    }\n",
       "\n",
       "    .dataframe thead th {\n",
       "        text-align: right;\n",
       "    }\n",
       "</style>\n",
       "<table border=\"1\" class=\"dataframe\">\n",
       "  <thead>\n",
       "    <tr style=\"text-align: right;\">\n",
       "      <th></th>\n",
       "      <th>L_Hand_Type_1</th>\n",
       "      <th>L_Position_X_1</th>\n",
       "      <th>L_Position_Y_1</th>\n",
       "      <th>L_Position_Z_1</th>\n",
       "      <th>L_Velocity_X_1</th>\n",
       "      <th>L_Velocity_Y_1</th>\n",
       "      <th>L_Velocity_Z_1</th>\n",
       "      <th>L_Pitch_1</th>\n",
       "      <th>L_Roll_1</th>\n",
       "      <th>L_Yaw_1</th>\n",
       "      <th>...</th>\n",
       "      <th>R_Wrist_Pos_X_3</th>\n",
       "      <th>R_Wrist_Pos_Y_3</th>\n",
       "      <th>R_Wrist_Pos_Z_3</th>\n",
       "      <th>R_Elbow_pos_X_3</th>\n",
       "      <th>R_Elbow_Pos_Y_3</th>\n",
       "      <th>R_Elbow_Pos_Z_3</th>\n",
       "      <th>R_Grab_Strenth_3</th>\n",
       "      <th>R_Grab_Angle_3</th>\n",
       "      <th>R_Pinch_Strength_3</th>\n",
       "      <th>label</th>\n",
       "    </tr>\n",
       "  </thead>\n",
       "  <tbody>\n",
       "    <tr>\n",
       "      <th>0</th>\n",
       "      <td>0</td>\n",
       "      <td>-134.93140</td>\n",
       "      <td>287.8021</td>\n",
       "      <td>57.69223</td>\n",
       "      <td>38.46176</td>\n",
       "      <td>-457.81310</td>\n",
       "      <td>-99.182950</td>\n",
       "      <td>0.926959</td>\n",
       "      <td>0.729198</td>\n",
       "      <td>0.596569</td>\n",
       "      <td>...</td>\n",
       "      <td>185.8083</td>\n",
       "      <td>195.3759</td>\n",
       "      <td>152.07010</td>\n",
       "      <td>395.0904</td>\n",
       "      <td>49.809700</td>\n",
       "      <td>91.72690</td>\n",
       "      <td>0.0</td>\n",
       "      <td>1.073817</td>\n",
       "      <td>0.0</td>\n",
       "      <td>0</td>\n",
       "    </tr>\n",
       "    <tr>\n",
       "      <th>1</th>\n",
       "      <td>0</td>\n",
       "      <td>-84.91040</td>\n",
       "      <td>289.5809</td>\n",
       "      <td>52.80002</td>\n",
       "      <td>20.60177</td>\n",
       "      <td>263.48830</td>\n",
       "      <td>8.594344</td>\n",
       "      <td>0.640838</td>\n",
       "      <td>0.432079</td>\n",
       "      <td>0.908195</td>\n",
       "      <td>...</td>\n",
       "      <td>197.1509</td>\n",
       "      <td>189.1245</td>\n",
       "      <td>116.83200</td>\n",
       "      <td>424.6440</td>\n",
       "      <td>62.880270</td>\n",
       "      <td>103.15460</td>\n",
       "      <td>0.0</td>\n",
       "      <td>0.428167</td>\n",
       "      <td>0.0</td>\n",
       "      <td>0</td>\n",
       "    </tr>\n",
       "    <tr>\n",
       "      <th>2</th>\n",
       "      <td>0</td>\n",
       "      <td>-145.93210</td>\n",
       "      <td>209.2152</td>\n",
       "      <td>36.66230</td>\n",
       "      <td>-48.71319</td>\n",
       "      <td>23.06279</td>\n",
       "      <td>146.699000</td>\n",
       "      <td>0.647866</td>\n",
       "      <td>0.784072</td>\n",
       "      <td>0.767953</td>\n",
       "      <td>...</td>\n",
       "      <td>217.0214</td>\n",
       "      <td>137.6736</td>\n",
       "      <td>112.52340</td>\n",
       "      <td>382.0355</td>\n",
       "      <td>-23.928400</td>\n",
       "      <td>234.72980</td>\n",
       "      <td>0.0</td>\n",
       "      <td>0.692063</td>\n",
       "      <td>0.0</td>\n",
       "      <td>0</td>\n",
       "    </tr>\n",
       "    <tr>\n",
       "      <th>3</th>\n",
       "      <td>0</td>\n",
       "      <td>-89.90157</td>\n",
       "      <td>362.7294</td>\n",
       "      <td>58.24301</td>\n",
       "      <td>-102.60660</td>\n",
       "      <td>397.61360</td>\n",
       "      <td>27.894090</td>\n",
       "      <td>0.809251</td>\n",
       "      <td>0.428544</td>\n",
       "      <td>0.860582</td>\n",
       "      <td>...</td>\n",
       "      <td>207.1271</td>\n",
       "      <td>183.4541</td>\n",
       "      <td>33.71537</td>\n",
       "      <td>373.2381</td>\n",
       "      <td>-15.743260</td>\n",
       "      <td>57.87835</td>\n",
       "      <td>0.0</td>\n",
       "      <td>0.610099</td>\n",
       "      <td>0.0</td>\n",
       "      <td>0</td>\n",
       "    </tr>\n",
       "    <tr>\n",
       "      <th>4</th>\n",
       "      <td>0</td>\n",
       "      <td>-126.69140</td>\n",
       "      <td>218.7554</td>\n",
       "      <td>14.62053</td>\n",
       "      <td>-35.02637</td>\n",
       "      <td>-189.79030</td>\n",
       "      <td>110.262100</td>\n",
       "      <td>0.351853</td>\n",
       "      <td>1.292042</td>\n",
       "      <td>0.754124</td>\n",
       "      <td>...</td>\n",
       "      <td>204.2352</td>\n",
       "      <td>175.7286</td>\n",
       "      <td>73.73287</td>\n",
       "      <td>385.2574</td>\n",
       "      <td>-4.826356</td>\n",
       "      <td>126.74020</td>\n",
       "      <td>0.0</td>\n",
       "      <td>0.712863</td>\n",
       "      <td>0.0</td>\n",
       "      <td>0</td>\n",
       "    </tr>\n",
       "  </tbody>\n",
       "</table>\n",
       "<p>5 rows × 115 columns</p>\n",
       "</div>"
      ],
      "text/plain": [
       "   L_Hand_Type_1  L_Position_X_1  L_Position_Y_1  L_Position_Z_1  \\\n",
       "0              0      -134.93140        287.8021        57.69223   \n",
       "1              0       -84.91040        289.5809        52.80002   \n",
       "2              0      -145.93210        209.2152        36.66230   \n",
       "3              0       -89.90157        362.7294        58.24301   \n",
       "4              0      -126.69140        218.7554        14.62053   \n",
       "\n",
       "   L_Velocity_X_1  L_Velocity_Y_1  L_Velocity_Z_1  L_Pitch_1  L_Roll_1  \\\n",
       "0        38.46176      -457.81310      -99.182950   0.926959  0.729198   \n",
       "1        20.60177       263.48830        8.594344   0.640838  0.432079   \n",
       "2       -48.71319        23.06279      146.699000   0.647866  0.784072   \n",
       "3      -102.60660       397.61360       27.894090   0.809251  0.428544   \n",
       "4       -35.02637      -189.79030      110.262100   0.351853  1.292042   \n",
       "\n",
       "    L_Yaw_1  ...  R_Wrist_Pos_X_3  R_Wrist_Pos_Y_3  R_Wrist_Pos_Z_3  \\\n",
       "0  0.596569  ...         185.8083         195.3759        152.07010   \n",
       "1  0.908195  ...         197.1509         189.1245        116.83200   \n",
       "2  0.767953  ...         217.0214         137.6736        112.52340   \n",
       "3  0.860582  ...         207.1271         183.4541         33.71537   \n",
       "4  0.754124  ...         204.2352         175.7286         73.73287   \n",
       "\n",
       "   R_Elbow_pos_X_3  R_Elbow_Pos_Y_3  R_Elbow_Pos_Z_3  R_Grab_Strenth_3  \\\n",
       "0         395.0904        49.809700         91.72690               0.0   \n",
       "1         424.6440        62.880270        103.15460               0.0   \n",
       "2         382.0355       -23.928400        234.72980               0.0   \n",
       "3         373.2381       -15.743260         57.87835               0.0   \n",
       "4         385.2574        -4.826356        126.74020               0.0   \n",
       "\n",
       "   R_Grab_Angle_3  R_Pinch_Strength_3  label  \n",
       "0        1.073817                 0.0      0  \n",
       "1        0.428167                 0.0      0  \n",
       "2        0.692063                 0.0      0  \n",
       "3        0.610099                 0.0      0  \n",
       "4        0.712863                 0.0      0  \n",
       "\n",
       "[5 rows x 115 columns]"
      ]
     },
     "execution_count": 88,
     "metadata": {},
     "output_type": "execute_result"
    }
   ],
   "source": [
    "df_test.head()"
   ]
  },
  {
   "cell_type": "code",
   "execution_count": 89,
   "metadata": {},
   "outputs": [],
   "source": [
    "y_test_f = df_test['label']\n",
    "X_test_f = df_test.drop(['label'], axis=1)"
   ]
  },
  {
   "cell_type": "markdown",
   "metadata": {},
   "source": [
    "<div class=\"alert alert-block alert-warning\">\n",
    "    \n",
    "## Selecting a Kernel and Tuning Hyperparameters\n",
    "   1. scaling\n",
    "   2. pca (n_components=15)\n",
    "   3. GridSearch: find best parameters in each model\n",
    "   4. compare models\n",
    "    \n",
    "<div>"
   ]
  },
  {
   "cell_type": "code",
   "execution_count": 38,
   "metadata": {},
   "outputs": [],
   "source": [
    "scaler = StandardScaler()\n",
    "X_scaled = scaler.fit_transform(X.values)\n",
    "\n",
    "pca = PCA(n_components=15)\n",
    "\n",
    "X_reduced = pca.fit_transform(X)\n",
    "\n",
    "X_train, X_test, y_train, y_test = train_test_split(X_reduced, y, test_size = 0.3, random_state=42, shuffle = True)\n",
    "\n",
    "Kfolds = StratifiedKFold(n_splits=5,shuffle=True, random_state=7)"
   ]
  },
  {
   "cell_type": "code",
   "execution_count": 124,
   "metadata": {},
   "outputs": [],
   "source": [
    "model_params = {\n",
    "    'random_forest':{\n",
    "        'model': RandomForestClassifier(),\n",
    "        'params': {\n",
    "            'n_estimators': [100, 150],\n",
    "            'max_depth': [10,20,50,80,100]\n",
    "        }\n",
    "    },\n",
    "    \n",
    "    'logistic_regression':{\n",
    "        'model': LogisticRegression(multi_class= 'auto'),\n",
    "        'params': {\n",
    "            'solver': ['newton-cg', 'lbfgs', 'liblinear', 'sag', 'saga'],\n",
    "            'C': [0.1, 0.5, 1.0]\n",
    "        }\n",
    "    },\n",
    "    \n",
    "    'xgb':{\n",
    "        'model': XGBClassifier(eval_metric='mlogloss'),\n",
    "        'params':{\n",
    "            'n_estimators': [100, 150],\n",
    "            'learning_rate': [0.0001, 0.001, 0.01, 0.1, 0.2, 0.3]            \n",
    "        }\n",
    "    },\n",
    "    \n",
    "    'knn':{\n",
    "        'model': KNeighborsClassifier(),\n",
    "        'params': {\n",
    "            'n_neighbors': [5,7,10, 15],\n",
    "            'algorithm': ['auto', 'ball_tree', 'kd_tree', 'brute']\n",
    "        }\n",
    "    }\n",
    "}"
   ]
  },
  {
   "cell_type": "code",
   "execution_count": 125,
   "metadata": {},
   "outputs": [],
   "source": [
    "scores = []\n",
    "\n",
    "for model_name, mp in model_params.items():\n",
    "    clf = GridSearchCV(mp['model'], mp['params'], cv = Kfolds, return_train_score= False)\n",
    "    clf.fit(X_train, y_train)\n",
    "    scores.append({\n",
    "        'model': model_name,\n",
    "        'best score': clf.best_score_,\n",
    "        'best params': clf.best_params_\n",
    "    })"
   ]
  },
  {
   "cell_type": "code",
   "execution_count": 126,
   "metadata": {},
   "outputs": [
    {
     "data": {
      "text/html": [
       "<div>\n",
       "<style scoped>\n",
       "    .dataframe tbody tr th:only-of-type {\n",
       "        vertical-align: middle;\n",
       "    }\n",
       "\n",
       "    .dataframe tbody tr th {\n",
       "        vertical-align: top;\n",
       "    }\n",
       "\n",
       "    .dataframe thead th {\n",
       "        text-align: right;\n",
       "    }\n",
       "</style>\n",
       "<table border=\"1\" class=\"dataframe\">\n",
       "  <thead>\n",
       "    <tr style=\"text-align: right;\">\n",
       "      <th></th>\n",
       "      <th>model</th>\n",
       "      <th>best score</th>\n",
       "      <th>best params</th>\n",
       "    </tr>\n",
       "  </thead>\n",
       "  <tbody>\n",
       "    <tr>\n",
       "      <th>0</th>\n",
       "      <td>random_forest</td>\n",
       "      <td>0.798291</td>\n",
       "      <td>{'max_depth': 100, 'n_estimators': 150}</td>\n",
       "    </tr>\n",
       "    <tr>\n",
       "      <th>1</th>\n",
       "      <td>logistic_regression</td>\n",
       "      <td>0.739981</td>\n",
       "      <td>{'C': 0.5, 'solver': 'liblinear'}</td>\n",
       "    </tr>\n",
       "    <tr>\n",
       "      <th>2</th>\n",
       "      <td>xgb</td>\n",
       "      <td>0.803799</td>\n",
       "      <td>{'learning_rate': 0.2, 'n_estimators': 150}</td>\n",
       "    </tr>\n",
       "    <tr>\n",
       "      <th>3</th>\n",
       "      <td>knn</td>\n",
       "      <td>0.762393</td>\n",
       "      <td>{'algorithm': 'auto', 'n_neighbors': 15}</td>\n",
       "    </tr>\n",
       "  </tbody>\n",
       "</table>\n",
       "</div>"
      ],
      "text/plain": [
       "                 model  best score  \\\n",
       "0        random_forest    0.798291   \n",
       "1  logistic_regression    0.739981   \n",
       "2                  xgb    0.803799   \n",
       "3                  knn    0.762393   \n",
       "\n",
       "                                   best params  \n",
       "0      {'max_depth': 100, 'n_estimators': 150}  \n",
       "1            {'C': 0.5, 'solver': 'liblinear'}  \n",
       "2  {'learning_rate': 0.2, 'n_estimators': 150}  \n",
       "3     {'algorithm': 'auto', 'n_neighbors': 15}  "
      ]
     },
     "execution_count": 126,
     "metadata": {},
     "output_type": "execute_result"
    }
   ],
   "source": [
    "score_df = pd.DataFrame(scores)\n",
    "score_df"
   ]
  },
  {
   "cell_type": "markdown",
   "metadata": {},
   "source": [
    "<div class=\"alert alert-block alert-warning\">\n",
    "    \n",
    "## pipeline\n",
    "    \n",
    "<div>\n"
   ]
  },
  {
   "cell_type": "code",
   "execution_count": 73,
   "metadata": {},
   "outputs": [],
   "source": [
    "def pipe(model):\n",
    "    p = Pipeline([('scaler', StandardScaler()),\n",
    "                ('pca', PCA(n_components=15)),\n",
    "                ('mod', model)])\n",
    "    p.fit(X, y)\n",
    "    y_pred = p.predict(X_test_f)\n",
    "    score = round(p.score(X_test_f, y_test_f),4)\n",
    "    return y_pred, score"
   ]
  },
  {
   "cell_type": "code",
   "execution_count": 90,
   "metadata": {},
   "outputs": [
    {
     "data": {
      "text/plain": [
       "0.9086"
      ]
     },
     "execution_count": 90,
     "metadata": {},
     "output_type": "execute_result"
    }
   ],
   "source": [
    "xgb = XGBClassifier(eval_metric='mlogloss',learning_rate = 0.1, n_estimators = 150)\n",
    "y_pred_xgb, score_xgb = pipe(xgb)\n",
    "score_xgb"
   ]
  },
  {
   "cell_type": "code",
   "execution_count": 91,
   "metadata": {},
   "outputs": [
    {
     "data": {
      "text/plain": [
       "0.9068"
      ]
     },
     "execution_count": 91,
     "metadata": {},
     "output_type": "execute_result"
    }
   ],
   "source": [
    "r_forest = RandomForestClassifier(max_depth=20, n_estimators= 150)\n",
    "y_pred_forest, score_forest = pipe(r_forest)\n",
    "score_forest"
   ]
  },
  {
   "cell_type": "code",
   "execution_count": 94,
   "metadata": {},
   "outputs": [
    {
     "data": {
      "text/plain": [
       "0.9122"
      ]
     },
     "execution_count": 94,
     "metadata": {},
     "output_type": "execute_result"
    }
   ],
   "source": [
    "#voting\n",
    "pipeline = Pipeline([\n",
    "    ('scaler1', StandardScaler()),\n",
    "    ('pca1', PCA(n_components=15)),\n",
    "    ('clf', VotingClassifier([\n",
    "        ('rf', RandomForestClassifier(max_depth=20, n_estimators=150)),\n",
    "        ('xgb', XGBClassifier(eval_metric='mlogloss', learning_rate=0.1, n_estimators=150))],voting='soft'))])\n",
    "\n",
    "pipeline.fit(X, y)\n",
    "y_pred_vote = pipeline.predict(X_test_f)\n",
    "score_vote = round(pipeline.score(X_test_f, y_test_f),4)\n",
    "score_vote"
   ]
  },
  {
   "cell_type": "code",
   "execution_count": 95,
   "metadata": {},
   "outputs": [
    {
     "data": {
      "text/plain": [
       "0.9081"
      ]
     },
     "execution_count": 95,
     "metadata": {},
     "output_type": "execute_result"
    }
   ],
   "source": [
    "#stacking\n",
    "pipeline = Pipeline([\n",
    "    ('scaler', StandardScaler()),\n",
    "    ('pca', PCA(n_components=15)),\n",
    "    ('stack', StackingClassifier([\n",
    "        ('rf', RandomForestClassifier(max_depth=20, n_estimators=150)),            \n",
    "        ('xgb', XGBClassifier(eval_metric='mlogloss',learning_rate = 0.1, n_estimators = 150))\n",
    "        ]))])\n",
    "\n",
    "pipeline.fit(X, y)\n",
    "y_pred_stack = pipeline.predict(X_test_f)\n",
    "round(pipeline.score(X_test_f, y_test_f),4)"
   ]
  },
  {
   "cell_type": "markdown",
   "metadata": {},
   "source": [
    "<div class=\"alert alert-block alert-warning\">\n",
    "\n",
    "\n",
    "## classification_report\n",
    "### best model: voting\n",
    "\n",
    "**Model Evaluation**\n",
    "   * **Accuracy:** Overall, how often is the classifier correct? <br>\n",
    "   $ Accuracy = \\frac{(TP + TN)}{total} $\n",
    "   * **f1 score:** The F1 score can be interpreted as a weighted average of the precision and recall [0-1].\n",
    "   * **Precision:** When it predicts yes, how often is it correct?<br> \n",
    "   $ Precision = \\frac {TP}{predicted T}$\n",
    "   * **recall:** TP Rate(Sensitivity or Recall): When it’s actually yes, how often does it predict yes? <br>\n",
    "   $ recall = \\frac{TP}{TP+FP} $\n",
    "    \n",
    "<div>"
   ]
  },
  {
   "cell_type": "code",
   "execution_count": 97,
   "metadata": {},
   "outputs": [
    {
     "data": {
      "text/html": [
       "<div>\n",
       "<style scoped>\n",
       "    .dataframe tbody tr th:only-of-type {\n",
       "        vertical-align: middle;\n",
       "    }\n",
       "\n",
       "    .dataframe tbody tr th {\n",
       "        vertical-align: top;\n",
       "    }\n",
       "\n",
       "    .dataframe thead th {\n",
       "        text-align: right;\n",
       "    }\n",
       "</style>\n",
       "<table border=\"1\" class=\"dataframe\">\n",
       "  <thead>\n",
       "    <tr style=\"text-align: right;\">\n",
       "      <th></th>\n",
       "      <th>0</th>\n",
       "      <th>1</th>\n",
       "      <th>2</th>\n",
       "      <th>accuracy</th>\n",
       "      <th>macro avg</th>\n",
       "      <th>weighted avg</th>\n",
       "    </tr>\n",
       "  </thead>\n",
       "  <tbody>\n",
       "    <tr>\n",
       "      <th>precision</th>\n",
       "      <td>0.810056</td>\n",
       "      <td>0.965577</td>\n",
       "      <td>0.995851</td>\n",
       "      <td>0.912233</td>\n",
       "      <td>0.923828</td>\n",
       "      <td>0.922997</td>\n",
       "    </tr>\n",
       "    <tr>\n",
       "      <th>recall</th>\n",
       "      <td>0.975774</td>\n",
       "      <td>0.766393</td>\n",
       "      <td>0.994475</td>\n",
       "      <td>0.912233</td>\n",
       "      <td>0.912214</td>\n",
       "      <td>0.912233</td>\n",
       "    </tr>\n",
       "    <tr>\n",
       "      <th>f1-score</th>\n",
       "      <td>0.885226</td>\n",
       "      <td>0.854532</td>\n",
       "      <td>0.995162</td>\n",
       "      <td>0.912233</td>\n",
       "      <td>0.911640</td>\n",
       "      <td>0.911204</td>\n",
       "    </tr>\n",
       "    <tr>\n",
       "      <th>support</th>\n",
       "      <td>743.000000</td>\n",
       "      <td>732.000000</td>\n",
       "      <td>724.000000</td>\n",
       "      <td>0.912233</td>\n",
       "      <td>2199.000000</td>\n",
       "      <td>2199.000000</td>\n",
       "    </tr>\n",
       "  </tbody>\n",
       "</table>\n",
       "</div>"
      ],
      "text/plain": [
       "                    0           1           2  accuracy    macro avg  \\\n",
       "precision    0.810056    0.965577    0.995851  0.912233     0.923828   \n",
       "recall       0.975774    0.766393    0.994475  0.912233     0.912214   \n",
       "f1-score     0.885226    0.854532    0.995162  0.912233     0.911640   \n",
       "support    743.000000  732.000000  724.000000  0.912233  2199.000000   \n",
       "\n",
       "           weighted avg  \n",
       "precision      0.922997  \n",
       "recall         0.912233  \n",
       "f1-score       0.911204  \n",
       "support     2199.000000  "
      ]
     },
     "execution_count": 97,
     "metadata": {},
     "output_type": "execute_result"
    }
   ],
   "source": [
    "report = classification_report(y_test_f, y_pred_vote, output_dict=True)\n",
    "df_report = pd.DataFrame(report)\n",
    "df_report"
   ]
  },
  {
   "cell_type": "code",
   "execution_count": 123,
   "metadata": {},
   "outputs": [
    {
     "data": {
      "text/plain": [
       "Text(0.5, 1.0, 'Confusion matrix xgb\\n')"
      ]
     },
     "execution_count": 123,
     "metadata": {},
     "output_type": "execute_result"
    },
    {
     "data": {
      "image/png": "[encoded data removed]",
      "text/plain": [
       "<Figure size 360x288 with 2 Axes>"
      ]
     },
     "metadata": {
      "needs_background": "light"
     },
     "output_type": "display_data"
    }
   ],
   "source": [
    "from sklearn import metrics\n",
    "from sklearn.metrics import confusion_matrix\n",
    "\n",
    "plt.figure(figsize=(5,4))\n",
    "cnf_matrix = confusion_matrix(y_test_f, y_pred_vote)\n",
    "\n",
    "x_axis_labels = ['spontanic', 'sync', 'alone'] # labels for x-axis\n",
    "y_axis_labels = ['spontanic', 'sync', 'alone'] # labels for y-axis\n",
    "sns.heatmap(pd.DataFrame(cnf_matrix), annot=True,cmap=\"Reds\" , fmt='g', xticklabels=x_axis_labels, yticklabels=y_axis_labels, linewidths=0.1)\n",
    "\n",
    "plt.tight_layout()\n",
    "plt.title('Confusion matrix xgb\\n', fontsize=15)"
   ]
  },
  {
   "cell_type": "markdown",
   "metadata": {},
   "source": [
    "<div class=\"alert alert-success\" role=\"alert\">\n",
    "\n",
    "\n",
    "## conclusion:\n",
    "\n",
    "*after dimensionality reduction with PCA, from **114** features to **15** features.*\n",
    "\n",
    "### accuracy:\n",
    "\n",
    "   * RandomForestClassifier: 90%\n",
    "   * xgb: 90%\n",
    "   * stacking: 90%\n",
    "   * voting: 91%\n",
    "\n",
    "**from f1-score:**   \n",
    "   * spontanic: True 88.5% \n",
    "   * sync: True 85.5% \n",
    "   * alone: True 99.5% \n",
    "   \n",
    "<div>"
   ]
  },
  {
   "cell_type": "code",
   "execution_count": null,
   "metadata": {},
   "outputs": [],
   "source": []
  },
  {
   "cell_type": "code",
   "execution_count": null,
   "metadata": {},
   "outputs": [],
   "source": []
  }
 ],
 "metadata": {
  "kernelspec": {
   "display_name": "Python 3",
   "language": "python",
   "name": "python3"
  },
  "language_info": {
   "codemirror_mode": {
    "name": "ipython",
    "version": 3
   },
   "file_extension": ".py",
   "mimetype": "text/x-python",
   "name": "python",
   "nbconvert_exporter": "python",
   "pygments_lexer": "ipython3",
   "version": "3.8.3"
  }
 },
 "nbformat": 4,
 "nbformat_minor": 4
}
